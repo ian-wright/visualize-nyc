{
 "cells": [
  {
   "cell_type": "code",
   "execution_count": 1,
   "metadata": {
    "collapsed": true
   },
   "outputs": [],
   "source": [
    "import pandas as pd\n",
    "import numpy as np\n",
    "import io\n",
    "import json\n",
    "\n",
    "from yelp.client import Client\n",
    "from yelp.oauth1_authenticator import Oauth1Authenticator"
   ]
  },
  {
   "cell_type": "code",
   "execution_count": 3,
   "metadata": {
    "collapsed": false
   },
   "outputs": [],
   "source": [
    "# read yelp API keys\n",
    "with io.open('../../yelp_config_secret.json') as cred:\n",
    "    creds = json.load(cred)\n",
    "    auth = Oauth1Authenticator(**creds)\n",
    "    client = Client(auth)"
   ]
  },
  {
   "cell_type": "code",
   "execution_count": 8,
   "metadata": {
    "collapsed": false
   },
   "outputs": [
    {
     "data": {
      "text/plain": [
       "u'Antika Restaurant & Pizzeria'"
      ]
     },
     "execution_count": 8,
     "metadata": {},
     "output_type": "execute_result"
    }
   ],
   "source": [
    "# a Yelp API test call\n",
    "category = 'italian'\n",
    "stat_lat = 40.840719\n",
    "stat_long = -73.939561\n",
    "params = {\n",
    "    # half mile radius (800 meters)\n",
    "    'radius_filter': 800,\n",
    "    'category_filter': category\n",
    "}\n",
    "search_result = client.search_by_coordinates(stat_lat, stat_long, **params)\n",
    "search_result.businesses[0].name"
   ]
  },
  {
   "cell_type": "code",
   "execution_count": 9,
   "metadata": {
    "collapsed": false
   },
   "outputs": [],
   "source": [
    "raw_stations = pd.read_csv('http://web.mta.info/developers/data/nyct/subway/StationEntrances.csv')"
   ]
  },
  {
   "cell_type": "code",
   "execution_count": 13,
   "metadata": {
    "collapsed": false
   },
   "outputs": [],
   "source": [
    "# only concerned about A-train stations\n",
    "stations = raw_stations[raw_stations.Route_1 == 'A']\n",
    "# most stations have 2-4 entrances; we only want one record per station\n",
    "stations = stations.groupby('Station_Name').max()\n",
    "\n",
    "stations['Station_Name'] = stations.index\n",
    "# sort (roughly) from North to South (imperfect)\n",
    "stations = stations.sort_values('Station_Latitude', ascending=False)\n",
    "\n",
    "stations = stations.loc[:, ['Station_Latitude', 'Station_Longitude', 'Station_Name']]\n",
    "\n",
    "# re-index\n",
    "stations['station_id'] = np.arange(0, len(stations))\n",
    "stations.set_index('station_id', inplace=True)\n",
    "\n",
    "stations.columns = ['lat', 'long', 'name']"
   ]
  },
  {
   "cell_type": "code",
   "execution_count": 23,
   "metadata": {
    "collapsed": false
   },
   "outputs": [
    {
     "data": {
      "text/html": [
       "<div>\n",
       "<table border=\"1\" class=\"dataframe\">\n",
       "  <thead>\n",
       "    <tr style=\"text-align: right;\">\n",
       "      <th></th>\n",
       "      <th>lat</th>\n",
       "      <th>long</th>\n",
       "      <th>name</th>\n",
       "    </tr>\n",
       "    <tr>\n",
       "      <th>station_id</th>\n",
       "      <th></th>\n",
       "      <th></th>\n",
       "      <th></th>\n",
       "    </tr>\n",
       "  </thead>\n",
       "  <tbody>\n",
       "    <tr>\n",
       "      <th>0</th>\n",
       "      <td>40.868072</td>\n",
       "      <td>-73.919899</td>\n",
       "      <td>Inwood - 207th St</td>\n",
       "    </tr>\n",
       "    <tr>\n",
       "      <th>1</th>\n",
       "      <td>40.865491</td>\n",
       "      <td>-73.927271</td>\n",
       "      <td>Dyckman St-200th St</td>\n",
       "    </tr>\n",
       "    <tr>\n",
       "      <th>2</th>\n",
       "      <td>40.859022</td>\n",
       "      <td>-73.934180</td>\n",
       "      <td>190th St</td>\n",
       "    </tr>\n",
       "    <tr>\n",
       "      <th>3</th>\n",
       "      <td>40.851695</td>\n",
       "      <td>-73.937969</td>\n",
       "      <td>181st St</td>\n",
       "    </tr>\n",
       "    <tr>\n",
       "      <th>4</th>\n",
       "      <td>40.847391</td>\n",
       "      <td>-73.939704</td>\n",
       "      <td>175th St</td>\n",
       "    </tr>\n",
       "  </tbody>\n",
       "</table>\n",
       "</div>"
      ],
      "text/plain": [
       "                  lat       long                 name\n",
       "station_id                                           \n",
       "0           40.868072 -73.919899    Inwood - 207th St\n",
       "1           40.865491 -73.927271  Dyckman St-200th St\n",
       "2           40.859022 -73.934180             190th St\n",
       "3           40.851695 -73.937969             181st St\n",
       "4           40.847391 -73.939704             175th St"
      ]
     },
     "execution_count": 23,
     "metadata": {},
     "output_type": "execute_result"
    }
   ],
   "source": [
    "# We're only going to use regular A-train express stops, \n",
    "# and we want the station index to match the physical order of train stations.\n",
    "# This is easier done in excel, then re-imported as 'stations_ordered'\n",
    "\n",
    "stations.to_csv('../../data/atrain/stations_unordered.csv')\n",
    "\n",
    "stations_ordered = pd.read_csv('../../data/atrain/stations.csv', index_col=0)\n",
    "stations = stations_ordered\n",
    "stations.head()"
   ]
  },
  {
   "cell_type": "code",
   "execution_count": 21,
   "metadata": {
    "collapsed": false
   },
   "outputs": [
    {
     "data": {
      "text/html": [
       "<div>\n",
       "<table border=\"1\" class=\"dataframe\">\n",
       "  <thead>\n",
       "    <tr style=\"text-align: right;\">\n",
       "      <th></th>\n",
       "      <th>category</th>\n",
       "      <th>parent_category</th>\n",
       "    </tr>\n",
       "    <tr>\n",
       "      <th>category_id</th>\n",
       "      <th></th>\n",
       "      <th></th>\n",
       "    </tr>\n",
       "  </thead>\n",
       "  <tbody>\n",
       "    <tr>\n",
       "      <th>0</th>\n",
       "      <td>caribbean</td>\n",
       "      <td>caribbean</td>\n",
       "    </tr>\n",
       "    <tr>\n",
       "      <th>1</th>\n",
       "      <td>dominican</td>\n",
       "      <td>caribbean</td>\n",
       "    </tr>\n",
       "    <tr>\n",
       "      <th>2</th>\n",
       "      <td>haitian</td>\n",
       "      <td>caribbean</td>\n",
       "    </tr>\n",
       "    <tr>\n",
       "      <th>3</th>\n",
       "      <td>puertorican</td>\n",
       "      <td>caribbean</td>\n",
       "    </tr>\n",
       "    <tr>\n",
       "      <th>4</th>\n",
       "      <td>trinidadian</td>\n",
       "      <td>caribbean</td>\n",
       "    </tr>\n",
       "  </tbody>\n",
       "</table>\n",
       "</div>"
      ],
      "text/plain": [
       "                category parent_category\n",
       "category_id                             \n",
       "0              caribbean       caribbean\n",
       "1              dominican       caribbean\n",
       "2                haitian       caribbean\n",
       "3            puertorican       caribbean\n",
       "4            trinidadian       caribbean"
      ]
     },
     "execution_count": 21,
     "metadata": {},
     "output_type": "execute_result"
    }
   ],
   "source": [
    "# bring in the food type table (created in excel due to a manual and highly subjective sorting process...)\n",
    "categories = pd.read_csv('../../data/atrain/categories.csv', index_col=0)\n",
    "categories.head()"
   ]
  },
  {
   "cell_type": "code",
   "execution_count": 31,
   "metadata": {
    "collapsed": true
   },
   "outputs": [],
   "source": [
    "# keep an eye on total Yelp API calls; only allowed 25K /day\n",
    "# should make: 116 categories x 46 stations = 5,336 calls\n",
    "api_call_count = 0"
   ]
  },
  {
   "cell_type": "code",
   "execution_count": 33,
   "metadata": {
    "collapsed": false
   },
   "outputs": [
    {
     "name": "stdout",
     "output_type": "stream",
     "text": [
      "API call count: 116\n",
      "API call count: 232\n",
      "API call count: 348\n",
      "API call count: 464\n",
      "API call count: 580\n",
      "API call count: 696\n",
      "API call count: 812\n",
      "API call count: 928\n",
      "API call count: 1044\n",
      "API call count: 1160\n",
      "API call count: 1276\n",
      "API call count: 1392\n",
      "API call count: 1508\n",
      "API call count: 1624\n",
      "API call count: 1740\n",
      "API call count: 1856\n",
      "API call count: 1972\n",
      "API call count: 2088\n",
      "API call count: 2204\n",
      "API call count: 2320\n",
      "API call count: 2436\n",
      "API call count: 2552\n",
      "API call count: 2668\n",
      "API call count: 2784\n",
      "API call count: 2900\n",
      "API call count: 3016\n",
      "API call count: 3132\n",
      "API call count: 3248\n",
      "API call count: 3364\n",
      "API call count: 3480\n",
      "API call count: 3596\n",
      "API call count: 3712\n",
      "API call count: 3828\n",
      "API call count: 3944\n",
      "API call count: 4060\n",
      "API call count: 4176\n",
      "API call count: 4292\n",
      "API call count: 4408\n",
      "API call count: 4524\n",
      "API call count: 4640\n",
      "API call count: 4756\n",
      "API call count: 4872\n",
      "API call count: 4988\n",
      "API call count: 5104\n",
      "API call count: 5220\n",
      "API call count: 5336\n"
     ]
    }
   ],
   "source": [
    "station_joint_map = [] #'station_id', 'joint_id'\n",
    "joint_category_map = [] #'joint_id', 'category_id'\n",
    "joints = [] #'joint_id', 'name', 'address'\n",
    "\n",
    "# iterate through each station location\n",
    "for station_id, station in stations.iterrows():\n",
    "    stat_lat, stat_long, stat_name = station\n",
    "    # iterate through each food category\n",
    "    for category_id, category in categories.iterrows():\n",
    "        cat = category[0]\n",
    "        \n",
    "        # yelp search API parameters\n",
    "        params = {\n",
    "            # half mile radius (800 meters)\n",
    "            'radius_filter': 800,\n",
    "            'category_filter': cat\n",
    "        }\n",
    "        search_result = client.search_by_coordinates(stat_lat, stat_long, **params)\n",
    "        api_call_count += 1\n",
    "        \n",
    "        if len(search_result.businesses) == 0:\n",
    "            # no results\n",
    "            pass\n",
    "        else:\n",
    "            for joint in search_result.businesses:\n",
    "                # sometimes the restaurant address is empty\n",
    "                if joint.location.address:\n",
    "                    # building joint directory\n",
    "                    joints.append({'joint_id': joint.id, 'name': joint.name, 'address': joint.location.address[0]})\n",
    "                else:\n",
    "                    joints.append({'joint_id': joint.id, 'name': joint.name, 'address': 'no_address'})\n",
    "                \n",
    "                # building station-joint and joint-category mapping tables, joint by joint\n",
    "                station_joint_map.append({'station_id': station_id, 'joint_id': joint.id})\n",
    "                joint_category_map.append({'joint_id': joint.id, 'category_id': category_id})\n",
    "\n",
    "    print 'API call count:', api_call_count\n",
    "\n",
    "station_joint_map_df = pd.DataFrame(station_joint_map)\n",
    "joint_category_map_df = pd.DataFrame(joint_category_map)\n",
    "joints_df = pd.DataFrame(joints)"
   ]
  },
  {
   "cell_type": "code",
   "execution_count": 43,
   "metadata": {
    "collapsed": false
   },
   "outputs": [
    {
     "data": {
      "text/html": [
       "<div>\n",
       "<table border=\"1\" class=\"dataframe\">\n",
       "  <thead>\n",
       "    <tr style=\"text-align: right;\">\n",
       "      <th></th>\n",
       "      <th>address</th>\n",
       "      <th>joint_str_id</th>\n",
       "      <th>name</th>\n",
       "    </tr>\n",
       "    <tr>\n",
       "      <th>joint_int_id</th>\n",
       "      <th></th>\n",
       "      <th></th>\n",
       "      <th></th>\n",
       "    </tr>\n",
       "  </thead>\n",
       "  <tbody>\n",
       "    <tr>\n",
       "      <th>0</th>\n",
       "      <td>565 W 207th St</td>\n",
       "      <td>raices-new-york</td>\n",
       "      <td>Raices</td>\n",
       "    </tr>\n",
       "    <tr>\n",
       "      <th>1</th>\n",
       "      <td>500 W 207th St</td>\n",
       "      <td>el-lina-restaurant-manhattan</td>\n",
       "      <td>El Lina Restaurant</td>\n",
       "    </tr>\n",
       "    <tr>\n",
       "      <th>2</th>\n",
       "      <td>512 W 207th St</td>\n",
       "      <td>johns-fried-chicken-new-york</td>\n",
       "      <td>John's Fried Chicken</td>\n",
       "    </tr>\n",
       "    <tr>\n",
       "      <th>3</th>\n",
       "      <td>101 Dyckman St</td>\n",
       "      <td>dyckman-express-restaurant-new-york</td>\n",
       "      <td>Dyckman Express Restaurant</td>\n",
       "    </tr>\n",
       "    <tr>\n",
       "      <th>4</th>\n",
       "      <td>5085 Broadway</td>\n",
       "      <td>la-essencia-restaurant-new-york-2</td>\n",
       "      <td>La Essencia Restaurant</td>\n",
       "    </tr>\n",
       "  </tbody>\n",
       "</table>\n",
       "</div>"
      ],
      "text/plain": [
       "                     address                         joint_str_id  \\\n",
       "joint_int_id                                                        \n",
       "0             565 W 207th St                      raices-new-york   \n",
       "1             500 W 207th St         el-lina-restaurant-manhattan   \n",
       "2             512 W 207th St         johns-fried-chicken-new-york   \n",
       "3             101 Dyckman St  dyckman-express-restaurant-new-york   \n",
       "4              5085 Broadway    la-essencia-restaurant-new-york-2   \n",
       "\n",
       "                                    name  \n",
       "joint_int_id                              \n",
       "0                                 Raices  \n",
       "1                     El Lina Restaurant  \n",
       "2                   John's Fried Chicken  \n",
       "3             Dyckman Express Restaurant  \n",
       "4                 La Essencia Restaurant  "
      ]
     },
     "execution_count": 43,
     "metadata": {},
     "output_type": "execute_result"
    }
   ],
   "source": [
    "# de-dupe and clean up the joints table\n",
    "joints_df.drop_duplicates(inplace=True)\n",
    "joints_df.reset_index(inplace=True, drop=True)\n",
    "joints_df.index.name = 'joint_int_id'\n",
    "joints_df.columns = ['address', 'joint_str_id', 'name']\n",
    "joints_df.head()"
   ]
  },
  {
   "cell_type": "code",
   "execution_count": 49,
   "metadata": {
    "collapsed": false
   },
   "outputs": [
    {
     "data": {
      "text/html": [
       "<div>\n",
       "<table border=\"1\" class=\"dataframe\">\n",
       "  <thead>\n",
       "    <tr style=\"text-align: right;\">\n",
       "      <th></th>\n",
       "      <th>category_id</th>\n",
       "      <th>joint_id</th>\n",
       "    </tr>\n",
       "  </thead>\n",
       "  <tbody>\n",
       "    <tr>\n",
       "      <th>0</th>\n",
       "      <td>0</td>\n",
       "      <td>raices-new-york</td>\n",
       "    </tr>\n",
       "    <tr>\n",
       "      <th>1</th>\n",
       "      <td>0</td>\n",
       "      <td>el-lina-restaurant-manhattan</td>\n",
       "    </tr>\n",
       "    <tr>\n",
       "      <th>2</th>\n",
       "      <td>0</td>\n",
       "      <td>johns-fried-chicken-new-york</td>\n",
       "    </tr>\n",
       "    <tr>\n",
       "      <th>3</th>\n",
       "      <td>0</td>\n",
       "      <td>dyckman-express-restaurant-new-york</td>\n",
       "    </tr>\n",
       "    <tr>\n",
       "      <th>4</th>\n",
       "      <td>0</td>\n",
       "      <td>la-essencia-restaurant-new-york-2</td>\n",
       "    </tr>\n",
       "  </tbody>\n",
       "</table>\n",
       "</div>"
      ],
      "text/plain": [
       "   category_id                             joint_id\n",
       "0            0                      raices-new-york\n",
       "1            0         el-lina-restaurant-manhattan\n",
       "2            0         johns-fried-chicken-new-york\n",
       "3            0  dyckman-express-restaurant-new-york\n",
       "4            0    la-essencia-restaurant-new-york-2"
      ]
     },
     "execution_count": 49,
     "metadata": {},
     "output_type": "execute_result"
    }
   ],
   "source": [
    "joint_category_map_df.head()"
   ]
  },
  {
   "cell_type": "code",
   "execution_count": null,
   "metadata": {
    "collapsed": true
   },
   "outputs": [],
   "source": [
    "# we want to use joint_int_id in mapping tables, not the str_id\n",
    "joints_temp = joints_df\n",
    "joints_temp['joint_int_id'] = joints_temp.index"
   ]
  },
  {
   "cell_type": "code",
   "execution_count": 51,
   "metadata": {
    "collapsed": false
   },
   "outputs": [
    {
     "data": {
      "text/html": [
       "<div>\n",
       "<table border=\"1\" class=\"dataframe\">\n",
       "  <thead>\n",
       "    <tr style=\"text-align: right;\">\n",
       "      <th></th>\n",
       "      <th>category_id</th>\n",
       "      <th>joint_int_id</th>\n",
       "    </tr>\n",
       "    <tr>\n",
       "      <th>category_joint_id</th>\n",
       "      <th></th>\n",
       "      <th></th>\n",
       "    </tr>\n",
       "  </thead>\n",
       "  <tbody>\n",
       "    <tr>\n",
       "      <th>0</th>\n",
       "      <td>0</td>\n",
       "      <td>0</td>\n",
       "    </tr>\n",
       "    <tr>\n",
       "      <th>1</th>\n",
       "      <td>0</td>\n",
       "      <td>1</td>\n",
       "    </tr>\n",
       "    <tr>\n",
       "      <th>2</th>\n",
       "      <td>0</td>\n",
       "      <td>2</td>\n",
       "    </tr>\n",
       "    <tr>\n",
       "      <th>3</th>\n",
       "      <td>0</td>\n",
       "      <td>3</td>\n",
       "    </tr>\n",
       "    <tr>\n",
       "      <th>4</th>\n",
       "      <td>0</td>\n",
       "      <td>4</td>\n",
       "    </tr>\n",
       "  </tbody>\n",
       "</table>\n",
       "</div>"
      ],
      "text/plain": [
       "                   category_id  joint_int_id\n",
       "category_joint_id                           \n",
       "0                            0             0\n",
       "1                            0             1\n",
       "2                            0             2\n",
       "3                            0             3\n",
       "4                            0             4"
      ]
     },
     "execution_count": 51,
     "metadata": {},
     "output_type": "execute_result"
    }
   ],
   "source": [
    "# join mapping table to joints table to retrieve joint_int_id\n",
    "joint_category_map_df = joint_category_map_df.merge(joints_temp, how='left', left_on='joint_id', right_on='joint_str_id')\n",
    "joint_category_map_df.drop(['joint_id', 'address', 'joint_str_id', 'name'], axis=1, inplace=True)\n",
    "joint_category_map_df.drop_duplicates(inplace=True)\n",
    "joint_category_map_df.reset_index(inplace=True, drop=True)\n",
    "joint_category_map_df.index.name = 'category_joint_id'\n",
    "joint_category_map_df.head()"
   ]
  },
  {
   "cell_type": "code",
   "execution_count": 53,
   "metadata": {
    "collapsed": false
   },
   "outputs": [
    {
     "data": {
      "text/html": [
       "<div>\n",
       "<table border=\"1\" class=\"dataframe\">\n",
       "  <thead>\n",
       "    <tr style=\"text-align: right;\">\n",
       "      <th></th>\n",
       "      <th>station_id</th>\n",
       "      <th>joint_int_id</th>\n",
       "    </tr>\n",
       "    <tr>\n",
       "      <th>station_joint_id</th>\n",
       "      <th></th>\n",
       "      <th></th>\n",
       "    </tr>\n",
       "  </thead>\n",
       "  <tbody>\n",
       "    <tr>\n",
       "      <th>0</th>\n",
       "      <td>0</td>\n",
       "      <td>0</td>\n",
       "    </tr>\n",
       "    <tr>\n",
       "      <th>1</th>\n",
       "      <td>0</td>\n",
       "      <td>1</td>\n",
       "    </tr>\n",
       "    <tr>\n",
       "      <th>2</th>\n",
       "      <td>0</td>\n",
       "      <td>2</td>\n",
       "    </tr>\n",
       "    <tr>\n",
       "      <th>3</th>\n",
       "      <td>0</td>\n",
       "      <td>3</td>\n",
       "    </tr>\n",
       "    <tr>\n",
       "      <th>4</th>\n",
       "      <td>0</td>\n",
       "      <td>4</td>\n",
       "    </tr>\n",
       "  </tbody>\n",
       "</table>\n",
       "</div>"
      ],
      "text/plain": [
       "                  station_id  joint_int_id\n",
       "station_joint_id                          \n",
       "0                          0             0\n",
       "1                          0             1\n",
       "2                          0             2\n",
       "3                          0             3\n",
       "4                          0             4"
      ]
     },
     "execution_count": 53,
     "metadata": {},
     "output_type": "execute_result"
    }
   ],
   "source": [
    "# same process with the station-joint mapping table\n",
    "station_joint_map_df = station_joint_map_df.merge(joints_temp, how='left', left_on='joint_id', right_on='joint_str_id')\n",
    "station_joint_map_df.drop(['joint_id', 'address', 'joint_str_id', 'name'], axis=1, inplace=True)\n",
    "station_joint_map_df.drop_duplicates(inplace=True)\n",
    "station_joint_map_df.reset_index(inplace=True, drop=True)\n",
    "station_joint_map_df.index.name = 'station_joint_id'\n",
    "station_joint_map_df.head()"
   ]
  },
  {
   "cell_type": "code",
   "execution_count": 129,
   "metadata": {
    "collapsed": false
   },
   "outputs": [],
   "source": [
    "joints_df.to_csv('../../data/atrain/joints.csv', index=True, encoding='utf-8')\n",
    "categories.to_csv('../../data/atrain/categories.csv', index=True, encoding='utf-8')\n",
    "stations.to_csv('../../data/atrain/stations.csv', index=True, encoding='utf-8')\n",
    "station_joint_map_df.to_csv('../../data/atrain/station_joint_map.csv', index=True, encoding='utf-8')\n",
    "joint_category_map_df.to_csv('../../data/atrain/joint_category_map.csv', index=True, encoding='utf-8')"
   ]
  },
  {
   "cell_type": "code",
   "execution_count": null,
   "metadata": {
    "collapsed": false
   },
   "outputs": [],
   "source": [
    "#station_joint_map_df.head(20)\n",
    "#joint_category_map_df.head(20)\n",
    "#joints_df.head(20)\n",
    "#categories.head(20)\n",
    "#stations.head(20)"
   ]
  }
 ],
 "metadata": {
  "anaconda-cloud": {},
  "kernelspec": {
   "display_name": "Python [conda root]",
   "language": "python",
   "name": "conda-root-py"
  },
  "language_info": {
   "codemirror_mode": {
    "name": "ipython",
    "version": 2
   },
   "file_extension": ".py",
   "mimetype": "text/x-python",
   "name": "python",
   "nbconvert_exporter": "python",
   "pygments_lexer": "ipython2",
   "version": "2.7.12"
  }
 },
 "nbformat": 4,
 "nbformat_minor": 2
}
